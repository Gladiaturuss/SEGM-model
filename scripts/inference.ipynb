{
 "cells": [
  {
   "cell_type": "code",
   "execution_count": null,
   "id": "023e30fa",
   "metadata": {},
   "outputs": [],
   "source": [
    "import cv2\n",
    "from matplotlib import pyplot as plt\n",
    "\n",
    "from segm.predictor import SegmPredictor"
   ]
  },
  {
   "cell_type": "code",
   "execution_count": null,
   "id": "73d3e9f6",
   "metadata": {},
   "outputs": [],
   "source": [
    "IMG_PATHS = ['']\n",
    "MODEL_PATH = ''\n",
    "CONFIG_PATH = ''\n",
    "DEVICE = 'cuda'"
   ]
  },
  {
   "cell_type": "code",
   "execution_count": null,
   "id": "9f11803b",
   "metadata": {
    "scrolled": false
   },
   "outputs": [],
   "source": [
    "images = [cv2.imread(i) for i in IMG_PATHS]"
   ]
  },
  {
   "cell_type": "code",
   "execution_count": null,
   "id": "03d55063",
   "metadata": {},
   "outputs": [],
   "source": [
    "predictor = SegmPredictor(\n",
    "    model_path=MODEL_PATH,\n",
    "    config_path=CONFIG_PATH,\n",
    "    device=DEVICE\n",
    ")"
   ]
  },
  {
   "cell_type": "code",
   "execution_count": null,
   "id": "5684b764",
   "metadata": {},
   "outputs": [],
   "source": [
    "pred_data = predictor(images)"
   ]
  },
  {
   "cell_type": "code",
   "execution_count": null,
   "id": "6736ad12",
   "metadata": {},
   "outputs": [],
   "source": [
    "for idx, pred_img in enumerate(pred_data):\n",
    "    for prediction in pred_img['predictions']:\n",
    "        bbox = prediction['bbox']\n",
    "        cv2.rectangle(images[idx], (bbox[0], bbox[1]), (bbox[2], bbox[3]), (255, 0, 0), 2)\n",
    "            \n",
    "#         contour = prediction['contour']\n",
    "#         cv2.drawContours(images[idx], [contour], -1, (0, 255, 0), 2)\n",
    "\n",
    "    plt.figure(figsize=(20, 20))\n",
    "    plt.imshow(images[idx])\n",
    "    plt.show()"
   ]
  }
 ],
 "metadata": {
  "kernelspec": {
   "display_name": "Python 3 (ipykernel)",
   "language": "python",
   "name": "python3"
  },
  "language_info": {
   "codemirror_mode": {
    "name": "ipython",
    "version": 3
   },
   "file_extension": ".py",
   "mimetype": "text/x-python",
   "name": "python",
   "nbconvert_exporter": "python",
   "pygments_lexer": "ipython3",
   "version": "3.8.10"
  }
 },
 "nbformat": 4,
 "nbformat_minor": 5
}
